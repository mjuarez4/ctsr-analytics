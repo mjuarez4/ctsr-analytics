{
  "nbformat": 4,
  "nbformat_minor": 0,
  "metadata": {
    "colab": {
      "provenance": [],
      "authorship_tag": "ABX9TyM6CaoY2lv/zyxqAtS/m2aE",
      "include_colab_link": true
    },
    "kernelspec": {
      "name": "python3",
      "display_name": "Python 3"
    },
    "language_info": {
      "name": "python"
    }
  },
  "cells": [
    {
      "cell_type": "markdown",
      "metadata": {
        "id": "view-in-github",
        "colab_type": "text"
      },
      "source": [
        "<a href=\"https://colab.research.google.com/github/mjuarez4/ctsr-analytics/blob/main/WordCloud.ipynb\" target=\"_parent\"><img src=\"https://colab.research.google.com/assets/colab-badge.svg\" alt=\"Open In Colab\"/></a>"
      ]
    },
    {
      "cell_type": "code",
      "execution_count": null,
      "metadata": {
        "id": "RRJg6hKc3GqS"
      },
      "outputs": [],
      "source": [
        "import polars as pl\n",
        "import matplotlib\n",
        "matplotlib.use('Agg')\n",
        "import matplotlib.pyplot as plt\n",
        "import numpy as np\n",
        "\n",
        "df_csv = pl.read_csv(\"./ctsr_dataset.csv\")\n",
        "\n"
      ]
    },
    {
      "cell_type": "code",
      "source": [
        "role_graph = \"c_topic_gender_majority\""
      ],
      "metadata": {
        "id": "bGWzxIx87ElE"
      },
      "execution_count": null,
      "outputs": []
    },
    {
      "cell_type": "code",
      "source": [
        "bully_majority = df_csv.filter(pl.col(f\"{role_graph}\") == \"t\")\n",
        "result = bully_majority.unique(subset=[\"c_comment_id\"])\n",
        "#print(result[\"c_comment_content\"])\n",
        "\n",
        "\n",
        "comments = result[\"c_comment_content\"].to_list()"
      ],
      "metadata": {
        "id": "F0sgbm413IKv"
      },
      "execution_count": null,
      "outputs": []
    },
    {
      "cell_type": "code",
      "source": [
        "from wordcloud import WordCloud, STOPWORDS\n",
        "from collections import Counter\n",
        "import matplotlib.pyplot as plt\n",
        "import re\n",
        "\n",
        "all_words = []\n",
        "for comment in comments:\n",
        "    if comment:\n",
        "        words = re.findall(r\"\\b\\w+\\b\", comment.lower())\n",
        "        all_words.extend(words)\n",
        "\n",
        "custom_stopwords = set(STOPWORDS)\n",
        "custom_set = [\"u\", \"t\", \"s\"]\n",
        "filtered_words = [word for word in all_words if word not in custom_stopwords and word not in custom_set]\n",
        "\n",
        "word_counts = Counter(filtered_words)\n",
        "print(word_counts)\n",
        "wordcloud = WordCloud(width=800, height=400, background_color='white').generate_from_frequencies(word_counts)\n",
        "\n",
        "plt.figure(figsize=(10, 5))\n",
        "plt.imshow(wordcloud, interpolation='bilinear')\n",
        "plt.axis(\"off\")\n",
        "plt.tight_layout()\n",
        "plt.savefig(f\"./{role_graph}.png\", format=\"png\")\n"
      ],
      "metadata": {
        "colab": {
          "base_uri": "https://localhost:8080/"
        },
        "id": "ocF_KyqG6K-b",
        "outputId": "d287e6f5-e573-4d40-cd5f-4ff869a7aa1b"
      },
      "execution_count": null,
      "outputs": [
        {
          "output_type": "stream",
          "name": "stdout",
          "text": [
            "Counter({'gay': 45, 'ur': 35, 'shit': 21, 'bitch': 19, 'ass': 19, 'fag': 15, 'fuck': 14, 'nd': 14, 'yall': 13, 're': 12, 'look': 12, 'don': 12, 'pussy': 9, 'faggot': 9, 'm': 8, 'fucking': 8, 'cuz': 7, 'fuckin': 7, 'bitches': 7, 'dike': 7, 'skeeze_dez_bitches': 7, 'go': 7, 'better': 6, 'dont': 6, 'pink': 6, 'dolphin': 6, 'mike_radicals': 5, 'treandrews1': 5, 'mad': 5, 'white': 5, 'lmao': 5, 'stupid': 5, 'man': 5, 'even': 5, 'talk': 5, 'cause': 5, 'make': 4, 'take': 4, 'faggots': 4, 'lol': 4, 'damn': 4, 'comment': 4, 'dog': 4, 'ill': 4, 'got': 4, 'will': 4, 'dick': 4, 'tell': 4, 'little': 4, 'woman': 4, 'saying': 3, 'doesn': 3, 'yeah': 3, 'queer': 3, 'see': 3, 'real': 3, 'prolly': 3, 'boy': 3, 'wat': 3, 'cunt': 3, 'andrew_godinez27': 3, 'itsxgarrett': 3, 'want': 3, 'name': 3, 'whore': 3, 'fernandojmarques': 3, 'hoe': 3, '2': 3, 'life': 3, 'bob': 3, 'marley': 3, 'dumb': 3, 'people': 3, 'nasty': 3, 'one': 3, 'bro': 3, 'think': 3, 'yo': 3, 'yolo': 3, 'vsvpjerry23': 2, 'nigga': 2, 'brand': 2, 'afford': 2, 'ignorant': 2, 'b': 2, 'djchuckie': 2, 'outta': 2, 'shoes': 2, 'way': 2, 'pics': 2, 'scared': 2, 'worth': 2, 'ghetto': 2, 'now': 2, 'everything': 2, 'kids': 2, 'cut': 2, 'urself': 2, 'come': 2, 'jokes': 2, 'bother': 2, 'mans': 2, 'still': 2, 'give': 2, 'wit': 2, 'mother': 2, 'y': 2, 'arm': 2, 'slut': 2, 'theskyismyhigh': 2, 'hater': 2, 'eat': 2, 'fuqdatman6': 2, 'niggas': 2, 'skateboardin': 2, 'said': 2, 'somewhere': 2, 'arabian': 2, 'midget': 2, 'porn': 2, 'put': 2, 'shirts': 2, 'maroukiekhemmoro': 2, 'haha': 2, 'funny': 2, 'internet': 2, 'stop': 2, 'know': 2, 'gonna': 2, 'long': 2, 'something': 2, 'us': 2, 'back': 2, 'jasmine': 2, 'likes': 2, 'wannabe': 2, 'disrespect': 2, 'ugly': 2, 'never': 2, 'obviously': 2, 'swag': 2, 'po': 2, 'killyourself': 2, 'shirt': 2, 'right': 2, 'matter': 2, 'guy': 2, 'least': 2, 'beater': 2, 'yes': 2, 'though': 2, 'anyone': 1, 'coming': 1, 'closet': 1, 'homosexual': 1, 'legory': 1, 'sick': 1, 'clothing': 1, 'dumbass': 1, 'check': 1, 'ernest_fuentes': 1, 'computer': 1, 'chick': 1, 'sounds': 1, 'pussys': 1, 'bleeding': 1, 'really': 1, 'pretty': 1, 'wasnt': 1, 'outside': 1, 'house': 1, 'bigger': 1, 'urs': 1, 'guessing': 1, 'im': 1, 'say': 1, 'school': 1, 'dats': 1, 'crazy': 1, 'turned': 1, 'offered': 1, 'going': 1, 'moms': 1, 'grandma': 1, 'question': 1, 'thier': 1, 'sexuality': 1, 'status': 1, 'boys': 1, 'thatll': 1, 'anything': 1, 'chances': 1, 'tryin': 1, 'crack': 1, 'plus': 1, 'ive': 1, 'seen': 1, 'cuddled': 1, 'guys': 1, 'seems': 1, 'tryed': 1, 'offend': 1, 'shut': 1, 'nugget': 1, 'rape': 1, 'front': 1, 'steezers': 1, 'copy': 1, 'nickydiamonds1': 1, 'hope': 1, 'killed': 1, 'wearing': 1, 'biiiiiieeeeeeetttttccchhh': 1, 'monster': 1, 'couple': 1, 'fairies': 1, 'chuckin': 1, 'pixie': 1, 'dust': 1, 'eachother': 1, 'josephstanleyy': 1, 'wrist': 1, 'sure': 1, 'sanitize': 1, 'razor': 1, 'blades': 1, 'doin': 1, 'care': 1, 'fagget': 1, 'profile': 1, 'private': 1, 'reject': 1, 'sucker': 1, 'outcast': 1, 'lieng': 1, 'deionsandersjr': 1, 'fagets': 1, 'exactly': 1, 'treejay': 1, 'gayyyyyyy': 1, 'alien': 1, 'headed': 1, 'bum': 1, 'isn': 1, 'juking': 1, 'mess': 1, 'shoving': 1, 'dirt': 1, 'ignore': 1, 'killing': 1, 'queers': 1, 'made': 1, 'must': 1, 'period': 1, 'haven': 1, 'fit': 1, 'cake': 1, 'daaaaammmmnnnnn': 1, 'dropped': 1, 'knowledge': 1, 'dikeass': 1, 'immigrant': 1, 'thing': 1, 'eatin': 1, 'profiles': 1, 'consists': 1, 'mama': 1, 'papi': 1, 'provide': 1, 'family': 1, 'sellin': 1, 'oranges': 1, 'flowers': 1, 'side': 1, 'road': 1, 'told': 1, 'kno': 1, 'nobodys': 1, 'givin': 1, 'sisters': 1, 'mixed': 1, 'anyways': 1, 'lil': 1, 'maria': 1, 'add': 1, 'lmfao': 1, 'carvin': 1, 'speak': 1, 'fuckery': 1, 'stupider': 1, 'den': 1, 'mutha': 1, 'fucka': 1, 'smh': 1, 'f': 1, 'everythang': 1, 'gotta': 1, 'illuminati': 1, 'laughss': 1, 'alot': 1, 'stoopid': 1, 'building': 1, 'personal': 1, 'amen': 1, 'ryanbjones': 1, 'needs': 1, 'ride': 1, 'straightened': 1, 'complete': 1, 'lesbo': 1, 'part': 1, 'spent': 1, 'entire': 1, 'jail': 1, 'jack': 1, 'well': 1, 'believe': 1, 'bull': 1, 'believing': 1, 'hear': 1, 'always': 1, 'true': 1, 'starting': 1, 'fights': 1, 'didn': 1, 'existed': 1, 'started': 1, 'hop': 1, 'wow': 1, 'bring': 1, 'fairfax': 1, 'ratchet': 1, 'dive': 1, 'waist': 1, 'deep': 1, 'muff': 1, 'pie': 1, 'board': 1, 'bra': 1, 'actually': 1, 'matters': 1, 'pushed': 1, 'experiment': 1, 'rejected': 1, 'world': 1, 'hide': 1, 'away': 1, 'apps': 1, 'face': 1, 'acne': 1, 'eating': 1, 'fat': 1, 'abusing': 1, 'dissing': 1, 'justin': 1, 'rapper': 1, 'susan': 1, 'boyles': 1, 'cool': 1, 'dis': 1, 'advice': 1, 'doe': 1, 'girlfriend': 1, 'jerk': 1, '50': 1, 'bent': 1, 'ha': 1, 'kidred': 1, 'saynomore': 1, 'moneygang': 1, 'buttfucker': 1, 'hate': 1, 'fags': 1, 'lgnd': 1, 'following': 1, 'stalking': 1, 'pictures': 1, 'livin': 1, 'wasting': 1, 'douhebag': 1, 'idk': 1, 'excited': 1, 'first': 1, 'picture': 1, 'dude': 1, 'dumpy': 1, 'blow': 1, 'franky': 1, 'homo': 1, 'kiss': 1, 'nose': 1, 'tho': 1, 'someone': 1, 'instagram': 1, 'follow': 1, 'everyone': 1, 'day': 1, 'probably': 1, 'thumb': 1, 'suckin': 1, 'bosses': 1, 'balls': 1, 'need': 1, 'alittle': 1, 'weed': 1, 'treejtv': 1, 'show': 1, 'ya': 1, 'ropes': 1, 'kid': 1, 'gaygaygaygaygaygaygaygaygaygaygaygaygaygaygaygaygaygaygaygaygaygaygaygaygaygaygaygaygaygaygaygaygaygaygaygaygaygaygaygaygaygaygaygaygaygaygaygaygaygaygaygaygaygaygaygaygaygaygaygaygaygaygaygaygaygaygaygaygaygaygaygaygaygaygaygaygaygaygaygaygaygaygaygaygaygaygaygaygaygaygaygaygaygaygaygaygaygaygaygaygaygaygaygaygaygaygaygaygaygaygaygaygaygaygaygaygaygaygaygaygaygaygaygaygaygaygaygay': 1, 'male': 1, 'red': 1, 'hair': 1, 'facts': 1, 'str8': 1, 'uglyass': 1, 'happy': 1, 'birthday': 1, 'fagit': 1, 'faggish': 1, 'much': 1, 'darylvg': 1, 'prob': 1, 'dicks': 1, 'mouth': 1, 'udk': 1, 'either': 1, 'spit': 1, 'clowns': 1, 'slit': 1, 'wrists': 1, 'bout': 1, 'convo': 1, 'four': 1, 'suck': 1, 'clothes': 1, 'b4': 1, 'soggy': 1, '1996': 1, 'cast': 1, 'member': 1, 'let': 1, 'oreo': 1, 'cookie': 1, 'friend': 1, 'beat': 1, 'whiteboy': 1, 'blk': 1, 'skateboard': 1, 'break': 1, 'necks': 1, 'plz': 1, 'lololo': 1, 'behind': 1, 'head': 1, 'sad': 1, 'iboard_sabol': 1, 'smoke': 1, 'legal': 1, 'catch': 1, 'buzz': 1, 'wack': 1, 'shoutouts4evrrybodyy': 1, 'tag': 1, 'abused': 1, 'okay': 1, 'nobody': 1, 'goddamn': 1, 'attention': 1, 'seeker': 1, 'deserve': 1, 'god': 1, 'wanna': 1, 'c': 1, 'rapping': 1, 'try': 1, 'sound': 1, 'rebecca': 1, 'black': 1, 'listen': 1, 'worthless': 1, 'broke': 1, 'learn': 1, 'spell': 1, 'coked': 1, 'crackheaded': 1, 'apartment': 1, 'starters': 1, 'wear': 1, 'shower': 1, 'attitude': 1, 'stink': 1, 'stanky': 1, 'breezyhazeweezy': 1, 'self': 1, 'time': 1, 'cutting': 1, 'bitchesss': 1, 'emo': 1, 'looking': 1, 'half': 1, 'nope': 1, 'call': 1, 'talking': 1, 'photo': 1, 'gives': 1, 'opinion': 1, 'cross': 1, 'line': 1, 'children': 1, 'nothing': 1, 'past': 1, 'tact': 1, 'support': 1, 'kicking': 1, 'millions': 1, 'foolish': 1, 'waste': 1, 'alexshein69': 1, 'wouldn': 1, 'dirty': 1, 'dutch': 1, 'pulled': 1, 'asshole': 1, 'lip': 1, 'chris': 1, 'brown': 1, 'die': 1, 'burn': 1, 'll': 1, 'happen': 1, 'kaykaythatsmeh': 1, 'retared': 1, 'fucked': 1, 'mom': 1, 'racist': 1, 'jewish': 1, 'illumanti': 1, 'ballin_since_01': 1, 'clearly': 1, 'calling': 1, '5': 1, 'baby': 1, 'mamas': 1, 'far': 1, 'fagoty': 1, 'thug': 1, 'homos': 1})\n"
          ]
        }
      ]
    }
  ]
}